{
  "nbformat": 4,
  "nbformat_minor": 0,
  "metadata": {
    "colab": {
      "provenance": []
    },
    "kernelspec": {
      "name": "python3",
      "display_name": "Python 3"
    },
    "language_info": {
      "name": "python"
    }
  },
  "cells": [
    {
      "cell_type": "code",
      "execution_count": 2,
      "metadata": {
        "id": "Y4esTMcDemTY"
      },
      "outputs": [],
      "source": [
        "import numpy as np\n",
        "import pandas as pd"
      ]
    },
    {
      "cell_type": "markdown",
      "source": [
        "Section 1: Python Functions"
      ],
      "metadata": {
        "id": "UcH3ZjZDiUJc"
      }
    },
    {
      "cell_type": "code",
      "source": [
        "#Function with Parameters and Return Value\n",
        "def calculate_area(length, width):\n",
        "    \"\"\"Calculate the area of a rectangle.\"\"\"\n",
        "    area = length * width\n",
        "    return f\"The area of the rectangle is {area} square units.\"\n",
        "\n",
        "# Test the function\n",
        "print(calculate_area(5, 3))\n",
        "\n"
      ],
      "metadata": {
        "colab": {
          "base_uri": "https://localhost:8080/"
        },
        "id": "SfQ8wb2Ge7vi",
        "outputId": "d7208fe9-05bd-40c8-b937-8a1ae20da312"
      },
      "execution_count": 8,
      "outputs": [
        {
          "output_type": "stream",
          "name": "stdout",
          "text": [
            "The area of the rectangle is 15 square units.\n"
          ]
        }
      ]
    },
    {
      "cell_type": "code",
      "source": [
        "# Function Scope and Variable Accessibility\n",
        "def outer_function():\n",
        "    outer_var = 'I am outside!'\n",
        "    def inner_function():\n",
        "        inner_var = 'I am inside!'\n",
        "        print(outer_var)  # Accessing outer scope\n",
        "    inner_function()\n",
        "outer_function()"
      ],
      "metadata": {
        "colab": {
          "base_uri": "https://localhost:8080/"
        },
        "id": "u9Zk5s5eicxh",
        "outputId": "bf7ad8a7-7297-46c1-9442-9b7f74f91e9a"
      },
      "execution_count": 3,
      "outputs": [
        {
          "output_type": "stream",
          "name": "stdout",
          "text": [
            "I am outside!\n"
          ]
        }
      ]
    },
    {
      "cell_type": "code",
      "source": [
        "# Function with default arguments\n",
        "def greet_user(name, greeting=\"Hello\"):\n",
        "    \"\"\"Greet the user with a custom message or a default greeting.\"\"\"\n",
        "    return f\"{greeting}, {name}!\"\n",
        "\n",
        "# Calling with and without the optional parameter\n",
        "print(greet_user(\"Alice\"))\n",
        "print(greet_user(\"Bob\", \"Welcome\"))\n",
        "\n"
      ],
      "metadata": {
        "colab": {
          "base_uri": "https://localhost:8080/"
        },
        "id": "ehA8foApivEs",
        "outputId": "6e0e8bab-aeb3-4a8f-c244-e2b21255ec6a"
      },
      "execution_count": 9,
      "outputs": [
        {
          "output_type": "stream",
          "name": "stdout",
          "text": [
            "Hello, Alice!\n",
            "Welcome, Bob!\n"
          ]
        }
      ]
    },
    {
      "cell_type": "code",
      "source": [
        "# Recursive function\n",
        "def factorial(n):\n",
        "    \"\"\"Calculate factorial using recursion.\"\"\"\n",
        "    if n == 0:\n",
        "        return 1\n",
        "    else:\n",
        "        return n * factorial(n - 1)\n",
        "print(factorial(5))\n"
      ],
      "metadata": {
        "colab": {
          "base_uri": "https://localhost:8080/"
        },
        "id": "PKVmOD5fi5o_",
        "outputId": "7c790a55-f25d-46d6-a96f-842c0b26c0a4"
      },
      "execution_count": 5,
      "outputs": [
        {
          "output_type": "stream",
          "name": "stdout",
          "text": [
            "120\n"
          ]
        }
      ]
    },
    {
      "cell_type": "code",
      "source": [
        "#Fibonaci Series\n",
        "def fibonacci(n):\n",
        "    \"\"\"Return the nth number in the Fibonacci sequence.\"\"\"\n",
        "    if n <= 1:\n",
        "        return n\n",
        "    else:\n",
        "        return fibonacci(n - 1) + fibonacci(n - 2)\n",
        "\n",
        "# Test the recursive function\n",
        "print(\"Fibonacci series up to 5th number:\")\n",
        "for i in range(6):\n",
        "    print(fibonacci(i))\n"
      ],
      "metadata": {
        "colab": {
          "base_uri": "https://localhost:8080/"
        },
        "id": "YrITLqHejtgg",
        "outputId": "756bd00d-bb33-4336-87ee-0d5550d82883"
      },
      "execution_count": 7,
      "outputs": [
        {
          "output_type": "stream",
          "name": "stdout",
          "text": [
            "Fibonacci series up to 5th number:\n",
            "0\n",
            "1\n",
            "1\n",
            "2\n",
            "3\n",
            "5\n"
          ]
        }
      ]
    },
    {
      "cell_type": "code",
      "source": [
        "#Function with Docstrings\n",
        "def calculate_power(base, exponent):\n",
        "    \"\"\"\n",
        "    Raise a number (base) to the power of another (exponent).\n",
        "    Args:\n",
        "        base (int, float): The base number.\n",
        "        exponent (int): The power to raise the base to.\n",
        "    Returns:\n",
        "        int, float: Result of base raised to the power of exponent.\n",
        "    \"\"\"\n",
        "    return base ** exponent\n",
        "\n",
        "# Using the function with documentation\n",
        "print(calculate_power(2, 3))\n"
      ],
      "metadata": {
        "colab": {
          "base_uri": "https://localhost:8080/"
        },
        "id": "erQZ3Do0jDlB",
        "outputId": "d954c906-f82b-4823-9717-bd0c88a56863"
      },
      "execution_count": 6,
      "outputs": [
        {
          "output_type": "stream",
          "name": "stdout",
          "text": [
            "8\n"
          ]
        }
      ]
    },
    {
      "cell_type": "markdown",
      "source": [
        "Section 2: Lambda Functions"
      ],
      "metadata": {
        "id": "QUg3cRTZka76"
      }
    },
    {
      "cell_type": "code",
      "source": [
        "#Simple Lambda Function for String Manipulation\n",
        "string_to_upper = lambda s: s.upper()\n",
        "# Test the function with a sample string\n",
        "print(string_to_upper(\"hello world\"))"
      ],
      "metadata": {
        "colab": {
          "base_uri": "https://localhost:8080/"
        },
        "id": "ONIrZHLnkb4B",
        "outputId": "195671fe-ab91-4067-b643-90b1641a10c1"
      },
      "execution_count": 12,
      "outputs": [
        {
          "output_type": "stream",
          "name": "stdout",
          "text": [
            "HELLO WORLD\n"
          ]
        }
      ]
    },
    {
      "cell_type": "code",
      "source": [
        "#Lamda with map function for Temp conversion\n",
        "temperatures_celsius = [0, 22.5, 40, 100]\n",
        "temperatures_fahrenheit = list(map(lambda c: (c * 9/5) + 32, temperatures_celsius))\n",
        "print(temperatures_fahrenheit)\n"
      ],
      "metadata": {
        "colab": {
          "base_uri": "https://localhost:8080/"
        },
        "id": "nBNegfXLkv79",
        "outputId": "f87a2ad9-5481-44a4-b0f5-fa7f6216434f"
      },
      "execution_count": 13,
      "outputs": [
        {
          "output_type": "stream",
          "name": "stdout",
          "text": [
            "[32.0, 72.5, 104.0, 212.0]\n"
          ]
        }
      ]
    },
    {
      "cell_type": "code",
      "source": [
        "#Lamda with filter to find even numbers\n",
        "numbers = [1, 2, 3, 4, 5, 6, 7, 8, 9, 10]\n",
        "even_numbers = list(filter(lambda x: x % 2 == 0, numbers))\n",
        "print(\"Even numbers:\", even_numbers)\n"
      ],
      "metadata": {
        "colab": {
          "base_uri": "https://localhost:8080/"
        },
        "id": "w9wcVcsjlafZ",
        "outputId": "d6cb5649-fecb-4a1f-b6ce-ba8fa8afd070"
      },
      "execution_count": 14,
      "outputs": [
        {
          "output_type": "stream",
          "name": "stdout",
          "text": [
            "Even numbers: [2, 4, 6, 8, 10]\n"
          ]
        }
      ]
    },
    {
      "cell_type": "code",
      "source": [
        "# Lamda with reduce to calculate product\n",
        "from functools import reduce\n",
        "num_list = [1, 2, 3, 4, 5]\n",
        "product = reduce(lambda x, y: x * y, num_list)\n",
        "print(\"Product of all elements:\", product)\n"
      ],
      "metadata": {
        "colab": {
          "base_uri": "https://localhost:8080/"
        },
        "id": "fh1Rbj8El5bS",
        "outputId": "6a11df0c-fb54-4b62-d5da-61b4603173da"
      },
      "execution_count": 15,
      "outputs": [
        {
          "output_type": "stream",
          "name": "stdout",
          "text": [
            "Product of all elements: 120\n"
          ]
        }
      ]
    },
    {
      "cell_type": "code",
      "source": [
        "#Lamda vs Regular function\n",
        "def add_regular(x, y):\n",
        "    return x + y\n",
        "\n",
        "add_lambda = lambda x, y: x + y\n",
        "\n",
        "print(\"Regular function result:\", add_regular(5, 10))\n",
        "print(\"Lambda function result:\", add_lambda(5, 10))\n"
      ],
      "metadata": {
        "colab": {
          "base_uri": "https://localhost:8080/"
        },
        "id": "hObZhmJsmFa2",
        "outputId": "ad0dc6e2-a890-4dd2-be94-57100eaa9231"
      },
      "execution_count": 16,
      "outputs": [
        {
          "output_type": "stream",
          "name": "stdout",
          "text": [
            "Regular function result: 15\n",
            "Lambda function result: 15\n"
          ]
        }
      ]
    },
    {
      "cell_type": "markdown",
      "source": [
        "Section 3 Numpy"
      ],
      "metadata": {
        "id": "CSfNrYKcmaUY"
      }
    },
    {
      "cell_type": "code",
      "source": [
        "# Creating and Reshaping Arrays\n",
        "arr = np.arange(1, 13)  # Create an array with values 1 to 12\n",
        "arr_reshaped = arr.reshape(3, 4)  # Reshape into a 3x4 matrix\n",
        "print(\"Original array:\", arr)\n",
        "print(\"Reshaped to 3x4 matrix:\\n\", arr_reshaped)\n"
      ],
      "metadata": {
        "colab": {
          "base_uri": "https://localhost:8080/"
        },
        "id": "oaubDZQJmRTs",
        "outputId": "8b3ae790-c942-4a07-8f39-a14912ba04fe"
      },
      "execution_count": 17,
      "outputs": [
        {
          "output_type": "stream",
          "name": "stdout",
          "text": [
            "Original array: [ 1  2  3  4  5  6  7  8  9 10 11 12]\n",
            "Reshaped to 3x4 matrix:\n",
            " [[ 1  2  3  4]\n",
            " [ 5  6  7  8]\n",
            " [ 9 10 11 12]]\n"
          ]
        }
      ]
    },
    {
      "cell_type": "code",
      "source": [
        "#Array Arithmetic\n",
        "arr1 = np.array([1, 2, 3])\n",
        "arr2 = np.array([4, 5, 6])\n",
        "print(\"Sum:\", arr1 + arr2)\n",
        "print(\"Product:\", arr1 * arr2)\n"
      ],
      "metadata": {
        "colab": {
          "base_uri": "https://localhost:8080/"
        },
        "id": "VhOq-ynimkFC",
        "outputId": "bd1a7227-d2d5-4e68-eeeb-cc014610c4d6"
      },
      "execution_count": 18,
      "outputs": [
        {
          "output_type": "stream",
          "name": "stdout",
          "text": [
            "Sum: [5 7 9]\n",
            "Product: [ 4 10 18]\n"
          ]
        }
      ]
    },
    {
      "cell_type": "code",
      "source": [
        "#Indexing and Slicing\n",
        "arr_2d = np.array([[1, 2, 3], [4, 5, 6], [7, 8, 9]])\n",
        "print(\"Element at [1,1]:\", arr_2d[1, 1])\n",
        "print(\"Second row:\", arr_2d[1, :])\n"
      ],
      "metadata": {
        "colab": {
          "base_uri": "https://localhost:8080/"
        },
        "id": "GRbVFnCsmztk",
        "outputId": "5830548a-4a29-47d3-ad80-8725105d7f50"
      },
      "execution_count": 19,
      "outputs": [
        {
          "output_type": "stream",
          "name": "stdout",
          "text": [
            "Element at [1,1]: 5\n",
            "Second row: [4 5 6]\n"
          ]
        }
      ]
    },
    {
      "cell_type": "code",
      "source": [
        "#concatnation and stacking\n",
        "arr_a = np.array([[1, 2], [3, 4]])\n",
        "arr_b = np.array([[5, 6], [7, 8]])\n",
        "combined = np.concatenate((arr_a, arr_b), axis=0)  # Stack vertically\n",
        "print(\"Combined array:\\n\", combined)\n"
      ],
      "metadata": {
        "colab": {
          "base_uri": "https://localhost:8080/"
        },
        "id": "HsgimFdwrsPK",
        "outputId": "ecb41f1b-6216-4bea-9ec4-c6dde28213a7"
      },
      "execution_count": 20,
      "outputs": [
        {
          "output_type": "stream",
          "name": "stdout",
          "text": [
            "Combined array:\n",
            " [[1 2]\n",
            " [3 4]\n",
            " [5 6]\n",
            " [7 8]]\n"
          ]
        }
      ]
    },
    {
      "cell_type": "code",
      "source": [
        "#random number generation\n",
        "random_array = np.random.randint(1, 100, size=(4, 3))\n",
        "print(\"4x3 array of random integers:\\n\", random_array)\n"
      ],
      "metadata": {
        "colab": {
          "base_uri": "https://localhost:8080/"
        },
        "id": "Wzwek3GRr7-B",
        "outputId": "29e32b8f-743d-4a37-a3f3-3e7bc544666b"
      },
      "execution_count": 21,
      "outputs": [
        {
          "output_type": "stream",
          "name": "stdout",
          "text": [
            "4x3 array of random integers:\n",
            " [[93 94 72]\n",
            " [34 41 19]\n",
            " [58 69 76]\n",
            " [60 64 29]]\n"
          ]
        }
      ]
    },
    {
      "cell_type": "markdown",
      "source": [
        "Section 4 Pandas"
      ],
      "metadata": {
        "id": "bvhw0prKtUOL"
      }
    },
    {
      "cell_type": "code",
      "source": [
        "#Createing DataFrames and adding column\n",
        "data = {'Name': ['Alice', 'Bob', 'Charles'], 'Age': [24, 27, 22]}\n",
        "df = pd.DataFrame(data)\n",
        "df['Score'] = [88, 92, 85]  # Add new column\n",
        "print(df)\n"
      ],
      "metadata": {
        "colab": {
          "base_uri": "https://localhost:8080/"
        },
        "id": "ipayE6r8sDXx",
        "outputId": "2c0c827e-3bd0-4456-f44d-d7f4142d21ec"
      },
      "execution_count": 26,
      "outputs": [
        {
          "output_type": "stream",
          "name": "stdout",
          "text": [
            "      Name  Age  Score\n",
            "0    Alice   24     88\n",
            "1      Bob   27     92\n",
            "2  Charles   22     85\n"
          ]
        }
      ]
    },
    {
      "cell_type": "code",
      "source": [
        "df = pd.read_csv('/accounts.csv')\n",
        "print(\"Data loaded from CSV:\\n\", df.head())\n"
      ],
      "metadata": {
        "colab": {
          "base_uri": "https://localhost:8080/"
        },
        "id": "dguh9z6Dv3kU",
        "outputId": "4dadb34a-7bc6-4da4-c9b8-e76c7f1b7b42"
      },
      "execution_count": 25,
      "outputs": [
        {
          "output_type": "stream",
          "name": "stdout",
          "text": [
            "Data loaded from CSV:\n",
            "    account_id  customer_id account_type  balance\n",
            "0           1           45      Savings  1000.50\n",
            "1           2           12     Checking  2500.75\n",
            "2           3           78      Savings  1500.00\n",
            "3           4           34     Checking  3000.25\n",
            "4           5           56      Savings   500.00\n"
          ]
        }
      ]
    },
    {
      "cell_type": "code",
      "source": [
        "df['Score'].fillna(df['Score'].mean(), inplace=True)  # Replace NaN with mean\n"
      ],
      "metadata": {
        "colab": {
          "base_uri": "https://localhost:8080/"
        },
        "id": "XCBGKwrqwhoM",
        "outputId": "c336014d-06f9-4e07-a311-582f5074c327"
      },
      "execution_count": 27,
      "outputs": [
        {
          "output_type": "stream",
          "name": "stderr",
          "text": [
            "<ipython-input-27-89e95a8c115c>:1: FutureWarning: A value is trying to be set on a copy of a DataFrame or Series through chained assignment using an inplace method.\n",
            "The behavior will change in pandas 3.0. This inplace method will never work because the intermediate object on which we are setting values always behaves as a copy.\n",
            "\n",
            "For example, when doing 'df[col].method(value, inplace=True)', try using 'df.method({col: value}, inplace=True)' or df[col] = df[col].method(value) instead, to perform the operation inplace on the original object.\n",
            "\n",
            "\n",
            "  df['Score'].fillna(df['Score'].mean(), inplace=True)  # Replace NaN with mean\n"
          ]
        }
      ]
    },
    {
      "cell_type": "markdown",
      "source": [
        "If Statements"
      ],
      "metadata": {
        "id": "phrYnCl55qb_"
      }
    },
    {
      "cell_type": "code",
      "source": [
        "# Complex If-Else Statement\n",
        "score = 85\n",
        "if score >= 90:\n",
        "    grade = 'A'\n",
        "elif score >= 80:\n",
        "    grade = 'B'\n",
        "elif score >= 70:\n",
        "    grade = 'C'\n",
        "else:\n",
        "    grade = 'D'\n",
        "print(\"Grade:\", grade)\n"
      ],
      "metadata": {
        "colab": {
          "base_uri": "https://localhost:8080/"
        },
        "id": "hvDF-0IBw_gs",
        "outputId": "290944ad-b9a8-4eea-d183-eae948cc0973"
      },
      "execution_count": 29,
      "outputs": [
        {
          "output_type": "stream",
          "name": "stdout",
          "text": [
            "Grade: B\n"
          ]
        }
      ]
    },
    {
      "cell_type": "code",
      "source": [
        "#Using Multiple Conditions with and and or Operators\n",
        "age = 30\n",
        "income = 40000\n",
        "\n",
        "if age > 25 and income >= 30000:\n",
        "    print(\"Eligible for loan.\")\n",
        "elif age <= 25 and income >= 30000:\n",
        "    print(\"Income qualifies, but age is too low.\")\n",
        "elif age > 25 and income < 30000:\n",
        "    print(\"Age qualifies, but income is too low.\")\n",
        "else:\n",
        "    print(\"Does not qualify for loan.\")\n"
      ],
      "metadata": {
        "colab": {
          "base_uri": "https://localhost:8080/"
        },
        "id": "R67k0L0dxMKI",
        "outputId": "3e0d027f-dbd8-4183-eeb1-339d45559d8f"
      },
      "execution_count": 33,
      "outputs": [
        {
          "output_type": "stream",
          "name": "stdout",
          "text": [
            "Eligible for loan.\n"
          ]
        }
      ]
    },
    {
      "cell_type": "code",
      "source": [
        "#Nested If Statements for Complex Decision-Making\n",
        "score = 78\n",
        "\n",
        "if score >= 90:\n",
        "    grade = 'A'\n",
        "    if score > 95:\n",
        "        comment = \"Excellent!\"\n",
        "    else:\n",
        "        comment = \"Great job!\"\n",
        "elif score >= 80:\n",
        "    grade = 'B'\n",
        "    comment = \"Good work.\"\n",
        "elif score >= 70:\n",
        "    grade = 'C'\n",
        "    if score >= 75:\n",
        "        comment = \"Keep it up!\"\n",
        "    else:\n",
        "        comment = \"Needs improvement.\"\n",
        "else:\n",
        "    grade = 'D'\n",
        "    comment = \"Consider extra help.\"\n",
        "\n",
        "print(f\"Grade: {grade} - {comment}\")\n"
      ],
      "metadata": {
        "colab": {
          "base_uri": "https://localhost:8080/"
        },
        "id": "OoY01dZBxVZG",
        "outputId": "016bc490-2967-4580-c4b2-fe80bc5f9adb"
      },
      "execution_count": 34,
      "outputs": [
        {
          "output_type": "stream",
          "name": "stdout",
          "text": [
            "Grade: C - Keep it up!\n"
          ]
        }
      ]
    },
    {
      "cell_type": "code",
      "source": [
        "#Using Conditional Statements with Lists\n",
        "fruits = [\"apple\", \"banana\", \"orange\"]\n",
        "fruit_to_check = \"banana\"\n",
        "\n",
        "if fruit_to_check in fruits:\n",
        "    print(f\"{fruit_to_check.capitalize()} is available!\")\n",
        "else:\n",
        "    print(f\"{fruit_to_check.capitalize()} is not in the list.\")\n"
      ],
      "metadata": {
        "colab": {
          "base_uri": "https://localhost:8080/"
        },
        "id": "2js2-evWxaq3",
        "outputId": "bf70612c-c978-470e-b7e9-9ff050ab52a7"
      },
      "execution_count": 35,
      "outputs": [
        {
          "output_type": "stream",
          "name": "stdout",
          "text": [
            "Banana is available!\n"
          ]
        }
      ]
    },
    {
      "cell_type": "code",
      "source": [
        "#Checking Multiple Conditions with elif\n",
        "temperature = 32  # in degrees Celsius\n",
        "\n",
        "if temperature > 35:\n",
        "    print(\"It's very hot outside.\")\n",
        "elif 25 <= temperature <= 35:\n",
        "    print(\"The weather is warm.\")\n",
        "elif 15 <= temperature < 25:\n",
        "    print(\"It's mild outside.\")\n",
        "elif 5 <= temperature < 15:\n",
        "    print(\"It's getting chilly.\")\n",
        "else:\n",
        "    print(\"It's cold outside.\")\n"
      ],
      "metadata": {
        "colab": {
          "base_uri": "https://localhost:8080/"
        },
        "id": "Wn9q0-lIxgyC",
        "outputId": "52ec6869-d00c-4986-9079-132de48c4cc8"
      },
      "execution_count": 36,
      "outputs": [
        {
          "output_type": "stream",
          "name": "stdout",
          "text": [
            "The weather is warm.\n"
          ]
        }
      ]
    },
    {
      "cell_type": "code",
      "source": [
        "#Complex Condition with Nested if and Logical Operators\n",
        "gpa = 3.6\n",
        "extracurriculars = [\"volunteer work\", \"sports\"]\n",
        "has_leadership_role = True\n",
        "\n",
        "if gpa >= 3.5:\n",
        "    if \"volunteer work\" in extracurriculars and has_leadership_role:\n",
        "        print(\"Eligible for a full scholarship.\")\n",
        "    elif \"volunteer work\" in extracurriculars or has_leadership_role:\n",
        "        print(\"Eligible for a partial scholarship.\")\n",
        "    else:\n",
        "        print(\"Eligible for academic scholarship only.\")\n",
        "else:\n",
        "    print(\"Not eligible for a scholarship.\")\n"
      ],
      "metadata": {
        "colab": {
          "base_uri": "https://localhost:8080/"
        },
        "id": "5aQ1gsxQxk7j",
        "outputId": "d5db388b-d292-46f3-e678-04e55c793a67"
      },
      "execution_count": 37,
      "outputs": [
        {
          "output_type": "stream",
          "name": "stdout",
          "text": [
            "Eligible for a full scholarship.\n"
          ]
        }
      ]
    },
    {
      "cell_type": "markdown",
      "source": [
        "loops"
      ],
      "metadata": {
        "id": "0Ls5OM1wBjOr"
      }
    },
    {
      "cell_type": "code",
      "source": [
        "#For Loop with List of Dictionaries\n",
        "employees = [\n",
        "    {\"name\": \"Alice\", \"role\": \"Developer\", \"salary\": 70000},\n",
        "    {\"name\": \"Bob\", \"role\": \"Designer\", \"salary\": 65000},\n",
        "    {\"name\": \"Charlie\", \"role\": \"Manager\", \"salary\": 90000}\n",
        "]\n",
        "\n",
        "for employee in employees:\n",
        "    print(f\"{employee['name']} works as a {employee['role']} with a salary of {employee['salary']}\")\n"
      ],
      "metadata": {
        "colab": {
          "base_uri": "https://localhost:8080/"
        },
        "id": "IyPCL1H3BkeD",
        "outputId": "3dfcf58a-86cc-4afb-92be-574e0dd46f34"
      },
      "execution_count": 38,
      "outputs": [
        {
          "output_type": "stream",
          "name": "stdout",
          "text": [
            "Alice works as a Developer with a salary of 70000\n",
            "Bob works as a Designer with a salary of 65000\n",
            "Charlie works as a Manager with a salary of 90000\n"
          ]
        }
      ]
    },
    {
      "cell_type": "code",
      "source": [
        "# While Loop with Counter\n",
        "counter = 5\n",
        "while counter > 0:\n",
        "    print(f\"Counting down: {counter}\")\n",
        "    counter -= 1\n",
        "print(\"Countdown finished!\")\n"
      ],
      "metadata": {
        "colab": {
          "base_uri": "https://localhost:8080/"
        },
        "id": "o2AD6vNVBs9Z",
        "outputId": "f70afd1b-f07d-447b-9e31-62df62213d14"
      },
      "execution_count": 39,
      "outputs": [
        {
          "output_type": "stream",
          "name": "stdout",
          "text": [
            "Counting down: 5\n",
            "Counting down: 4\n",
            "Counting down: 3\n",
            "Counting down: 2\n",
            "Counting down: 1\n",
            "Countdown finished!\n"
          ]
        }
      ]
    },
    {
      "cell_type": "code",
      "source": [
        "#Nested For Loops to Generate Multiplication Table\n",
        "for i in range(1, 21):\n",
        "    for j in range(1, 15):\n",
        "        print(f\"{i} x {j} = {i * j}\", end=\"\\t\")\n",
        "    print()  # New line after each row\n"
      ],
      "metadata": {
        "colab": {
          "base_uri": "https://localhost:8080/"
        },
        "id": "1q0kfTfGCZb5",
        "outputId": "d7f210bf-0ee4-463e-cd57-4f2fa0b2e0af"
      },
      "execution_count": 43,
      "outputs": [
        {
          "output_type": "stream",
          "name": "stdout",
          "text": [
            "1 x 1 = 1\t1 x 2 = 2\t1 x 3 = 3\t1 x 4 = 4\t1 x 5 = 5\t1 x 6 = 6\t1 x 7 = 7\t1 x 8 = 8\t1 x 9 = 9\t1 x 10 = 10\t1 x 11 = 11\t1 x 12 = 12\t1 x 13 = 13\t1 x 14 = 14\t\n",
            "2 x 1 = 2\t2 x 2 = 4\t2 x 3 = 6\t2 x 4 = 8\t2 x 5 = 10\t2 x 6 = 12\t2 x 7 = 14\t2 x 8 = 16\t2 x 9 = 18\t2 x 10 = 20\t2 x 11 = 22\t2 x 12 = 24\t2 x 13 = 26\t2 x 14 = 28\t\n",
            "3 x 1 = 3\t3 x 2 = 6\t3 x 3 = 9\t3 x 4 = 12\t3 x 5 = 15\t3 x 6 = 18\t3 x 7 = 21\t3 x 8 = 24\t3 x 9 = 27\t3 x 10 = 30\t3 x 11 = 33\t3 x 12 = 36\t3 x 13 = 39\t3 x 14 = 42\t\n",
            "4 x 1 = 4\t4 x 2 = 8\t4 x 3 = 12\t4 x 4 = 16\t4 x 5 = 20\t4 x 6 = 24\t4 x 7 = 28\t4 x 8 = 32\t4 x 9 = 36\t4 x 10 = 40\t4 x 11 = 44\t4 x 12 = 48\t4 x 13 = 52\t4 x 14 = 56\t\n",
            "5 x 1 = 5\t5 x 2 = 10\t5 x 3 = 15\t5 x 4 = 20\t5 x 5 = 25\t5 x 6 = 30\t5 x 7 = 35\t5 x 8 = 40\t5 x 9 = 45\t5 x 10 = 50\t5 x 11 = 55\t5 x 12 = 60\t5 x 13 = 65\t5 x 14 = 70\t\n",
            "6 x 1 = 6\t6 x 2 = 12\t6 x 3 = 18\t6 x 4 = 24\t6 x 5 = 30\t6 x 6 = 36\t6 x 7 = 42\t6 x 8 = 48\t6 x 9 = 54\t6 x 10 = 60\t6 x 11 = 66\t6 x 12 = 72\t6 x 13 = 78\t6 x 14 = 84\t\n",
            "7 x 1 = 7\t7 x 2 = 14\t7 x 3 = 21\t7 x 4 = 28\t7 x 5 = 35\t7 x 6 = 42\t7 x 7 = 49\t7 x 8 = 56\t7 x 9 = 63\t7 x 10 = 70\t7 x 11 = 77\t7 x 12 = 84\t7 x 13 = 91\t7 x 14 = 98\t\n",
            "8 x 1 = 8\t8 x 2 = 16\t8 x 3 = 24\t8 x 4 = 32\t8 x 5 = 40\t8 x 6 = 48\t8 x 7 = 56\t8 x 8 = 64\t8 x 9 = 72\t8 x 10 = 80\t8 x 11 = 88\t8 x 12 = 96\t8 x 13 = 104\t8 x 14 = 112\t\n",
            "9 x 1 = 9\t9 x 2 = 18\t9 x 3 = 27\t9 x 4 = 36\t9 x 5 = 45\t9 x 6 = 54\t9 x 7 = 63\t9 x 8 = 72\t9 x 9 = 81\t9 x 10 = 90\t9 x 11 = 99\t9 x 12 = 108\t9 x 13 = 117\t9 x 14 = 126\t\n",
            "10 x 1 = 10\t10 x 2 = 20\t10 x 3 = 30\t10 x 4 = 40\t10 x 5 = 50\t10 x 6 = 60\t10 x 7 = 70\t10 x 8 = 80\t10 x 9 = 90\t10 x 10 = 100\t10 x 11 = 110\t10 x 12 = 120\t10 x 13 = 130\t10 x 14 = 140\t\n",
            "11 x 1 = 11\t11 x 2 = 22\t11 x 3 = 33\t11 x 4 = 44\t11 x 5 = 55\t11 x 6 = 66\t11 x 7 = 77\t11 x 8 = 88\t11 x 9 = 99\t11 x 10 = 110\t11 x 11 = 121\t11 x 12 = 132\t11 x 13 = 143\t11 x 14 = 154\t\n",
            "12 x 1 = 12\t12 x 2 = 24\t12 x 3 = 36\t12 x 4 = 48\t12 x 5 = 60\t12 x 6 = 72\t12 x 7 = 84\t12 x 8 = 96\t12 x 9 = 108\t12 x 10 = 120\t12 x 11 = 132\t12 x 12 = 144\t12 x 13 = 156\t12 x 14 = 168\t\n",
            "13 x 1 = 13\t13 x 2 = 26\t13 x 3 = 39\t13 x 4 = 52\t13 x 5 = 65\t13 x 6 = 78\t13 x 7 = 91\t13 x 8 = 104\t13 x 9 = 117\t13 x 10 = 130\t13 x 11 = 143\t13 x 12 = 156\t13 x 13 = 169\t13 x 14 = 182\t\n",
            "14 x 1 = 14\t14 x 2 = 28\t14 x 3 = 42\t14 x 4 = 56\t14 x 5 = 70\t14 x 6 = 84\t14 x 7 = 98\t14 x 8 = 112\t14 x 9 = 126\t14 x 10 = 140\t14 x 11 = 154\t14 x 12 = 168\t14 x 13 = 182\t14 x 14 = 196\t\n",
            "15 x 1 = 15\t15 x 2 = 30\t15 x 3 = 45\t15 x 4 = 60\t15 x 5 = 75\t15 x 6 = 90\t15 x 7 = 105\t15 x 8 = 120\t15 x 9 = 135\t15 x 10 = 150\t15 x 11 = 165\t15 x 12 = 180\t15 x 13 = 195\t15 x 14 = 210\t\n",
            "16 x 1 = 16\t16 x 2 = 32\t16 x 3 = 48\t16 x 4 = 64\t16 x 5 = 80\t16 x 6 = 96\t16 x 7 = 112\t16 x 8 = 128\t16 x 9 = 144\t16 x 10 = 160\t16 x 11 = 176\t16 x 12 = 192\t16 x 13 = 208\t16 x 14 = 224\t\n",
            "17 x 1 = 17\t17 x 2 = 34\t17 x 3 = 51\t17 x 4 = 68\t17 x 5 = 85\t17 x 6 = 102\t17 x 7 = 119\t17 x 8 = 136\t17 x 9 = 153\t17 x 10 = 170\t17 x 11 = 187\t17 x 12 = 204\t17 x 13 = 221\t17 x 14 = 238\t\n",
            "18 x 1 = 18\t18 x 2 = 36\t18 x 3 = 54\t18 x 4 = 72\t18 x 5 = 90\t18 x 6 = 108\t18 x 7 = 126\t18 x 8 = 144\t18 x 9 = 162\t18 x 10 = 180\t18 x 11 = 198\t18 x 12 = 216\t18 x 13 = 234\t18 x 14 = 252\t\n",
            "19 x 1 = 19\t19 x 2 = 38\t19 x 3 = 57\t19 x 4 = 76\t19 x 5 = 95\t19 x 6 = 114\t19 x 7 = 133\t19 x 8 = 152\t19 x 9 = 171\t19 x 10 = 190\t19 x 11 = 209\t19 x 12 = 228\t19 x 13 = 247\t19 x 14 = 266\t\n",
            "20 x 1 = 20\t20 x 2 = 40\t20 x 3 = 60\t20 x 4 = 80\t20 x 5 = 100\t20 x 6 = 120\t20 x 7 = 140\t20 x 8 = 160\t20 x 9 = 180\t20 x 10 = 200\t20 x 11 = 220\t20 x 12 = 240\t20 x 13 = 260\t20 x 14 = 280\t\n"
          ]
        }
      ]
    },
    {
      "cell_type": "code",
      "source": [
        "#For Loop with break and continue\n",
        "numbers = [1, 2, 3, 4, 5, 6]\n",
        "for num in numbers:\n",
        "    if num == 3:\n",
        "        continue  # Skip number 3\n",
        "    elif num == 5:\n",
        "        break  # Stop the loop when reaching number 5\n",
        "    print(num)\n"
      ],
      "metadata": {
        "colab": {
          "base_uri": "https://localhost:8080/"
        },
        "id": "u8mUOikIC84n",
        "outputId": "527edb23-5620-4cdd-f345-19daebb560d2"
      },
      "execution_count": 44,
      "outputs": [
        {
          "output_type": "stream",
          "name": "stdout",
          "text": [
            "1\n",
            "2\n",
            "4\n"
          ]
        }
      ]
    },
    {
      "cell_type": "code",
      "source": [
        "#Using While Loop to Sum Input Numbers\n",
        "total = 0\n",
        "while True:\n",
        "    num = input(\"Enter a number to add (or 'stop' to end): \")\n",
        "    if num.lower() == 'stop':\n",
        "        break\n",
        "    total += int(num)\n",
        "print(\"Total sum:\", total)\n"
      ],
      "metadata": {
        "colab": {
          "base_uri": "https://localhost:8080/"
        },
        "id": "FnDRm5BuDHIU",
        "outputId": "76fb9c3d-1917-4ac4-b59b-d6f0d52c0485"
      },
      "execution_count": 45,
      "outputs": [
        {
          "output_type": "stream",
          "name": "stdout",
          "text": [
            "Enter a number to add (or 'stop' to end): 5\n",
            "Enter a number to add (or 'stop' to end): 2\n",
            "Enter a number to add (or 'stop' to end): 6\n",
            "Enter a number to add (or 'stop' to end): stop\n",
            "Total sum: 13\n"
          ]
        }
      ]
    },
    {
      "cell_type": "markdown",
      "source": [
        "Section 7: Lists, Tuples, Sets, and Dictionaries"
      ],
      "metadata": {
        "id": "VIKJ3_-jDcP-"
      }
    },
    {
      "cell_type": "code",
      "source": [
        "#Working with Lists: Adding, Removing, and Slicing\n",
        "fruits = [\"apple\", \"banana\", \"cherry\"]\n",
        "fruits.append(\"date\")  # Add an item\n",
        "fruits.remove(\"banana\")  # Remove an item\n",
        "print(\"Sliced fruits:\", fruits[1:])  # Slicing\n"
      ],
      "metadata": {
        "colab": {
          "base_uri": "https://localhost:8080/"
        },
        "id": "9u_jKJStDYI3",
        "outputId": "0f6592fc-af32-47d6-8a5c-8d4d48d2cf7d"
      },
      "execution_count": 46,
      "outputs": [
        {
          "output_type": "stream",
          "name": "stdout",
          "text": [
            "Sliced fruits: ['cherry', 'date']\n"
          ]
        }
      ]
    },
    {
      "cell_type": "code",
      "source": [
        "# Using Tuples to Store Fixed Data\n",
        "location = (\"New York\", \"USA\")\n",
        "city, country = location  # Tuple unpacking\n",
        "print(f\"City: {city}, Country: {country}\")\n"
      ],
      "metadata": {
        "colab": {
          "base_uri": "https://localhost:8080/"
        },
        "id": "nY0nf7V2Dp-_",
        "outputId": "1975cdc7-e291-4538-c403-37ac2ca23a7e"
      },
      "execution_count": 47,
      "outputs": [
        {
          "output_type": "stream",
          "name": "stdout",
          "text": [
            "City: New York, Country: USA\n"
          ]
        }
      ]
    },
    {
      "cell_type": "code",
      "source": [
        "# Working with Sets: Adding, Removing, and Checking Membership\n",
        "languages = {\"Python\", \"Java\", \"C++\"}\n",
        "languages.add(\"JavaScript\")  # Add a new item\n",
        "languages.discard(\"Java\")  # Remove an item\n",
        "print(\"Contains Python:\", \"Python\" in languages)\n"
      ],
      "metadata": {
        "colab": {
          "base_uri": "https://localhost:8080/"
        },
        "id": "ZyHP5YWfEkuo",
        "outputId": "a88299a8-20c8-4492-ecbd-4c498e13c07d"
      },
      "execution_count": 48,
      "outputs": [
        {
          "output_type": "stream",
          "name": "stdout",
          "text": [
            "Contains Python: True\n"
          ]
        }
      ]
    },
    {
      "cell_type": "code",
      "source": [
        "#Dictionary Operations: Adding, Updating, and Looping Through Items\n",
        "student = {\"name\": \"Alice\", \"age\": 23, \"major\": \"Computer Science\"}\n",
        "student[\"grade\"] = \"A\"  # Add a new key-value pair\n",
        "student[\"age\"] = 24  # Update an existing key-value pair\n",
        "\n",
        "for key, value in student.items():\n",
        "    print(f\"{key}: {value}\")\n"
      ],
      "metadata": {
        "colab": {
          "base_uri": "https://localhost:8080/"
        },
        "id": "T9qAnNANE9Ss",
        "outputId": "2d1b50ce-19a3-4330-9d48-eaa6b01868ec"
      },
      "execution_count": 49,
      "outputs": [
        {
          "output_type": "stream",
          "name": "stdout",
          "text": [
            "name: Alice\n",
            "age: 24\n",
            "major: Computer Science\n",
            "grade: A\n"
          ]
        }
      ]
    },
    {
      "cell_type": "code",
      "source": [
        "#Using Sets to Find Unique Values\n",
        "numbers = [1, 2, 2, 3, 4, 4, 5]\n",
        "unique_numbers = set(numbers)\n",
        "print(\"Unique numbers:\", unique_numbers)\n"
      ],
      "metadata": {
        "colab": {
          "base_uri": "https://localhost:8080/"
        },
        "id": "YKO1-ocGFF7a",
        "outputId": "a88a84a9-658c-44a8-af62-2309d0c2d65d"
      },
      "execution_count": 50,
      "outputs": [
        {
          "output_type": "stream",
          "name": "stdout",
          "text": [
            "Unique numbers: {1, 2, 3, 4, 5}\n"
          ]
        }
      ]
    },
    {
      "cell_type": "markdown",
      "source": [
        "Section 8: Operators"
      ],
      "metadata": {
        "id": "hVCVJ62xF2gs"
      }
    },
    {
      "cell_type": "code",
      "source": [
        "#Arithmetic Operators\n",
        "a, b = 10, 3\n",
        "print(\"Addition:\", a + b)\n",
        "print(\"Subtraction:\", a - b)\n",
        "print(\"Multiplication:\", a * b)\n",
        "print(\"Division:\", a / b)\n",
        "print(\"Modulus:\", a % b)\n",
        "print(\"Exponentiation:\", a ** b)\n"
      ],
      "metadata": {
        "colab": {
          "base_uri": "https://localhost:8080/"
        },
        "id": "q_uU1jUSFR2Y",
        "outputId": "ac320d66-04a2-44c6-9341-9ad461f4098e"
      },
      "execution_count": 51,
      "outputs": [
        {
          "output_type": "stream",
          "name": "stdout",
          "text": [
            "Addition: 13\n",
            "Subtraction: 7\n",
            "Multiplication: 30\n",
            "Division: 3.3333333333333335\n",
            "Modulus: 1\n",
            "Exponentiation: 1000\n"
          ]
        }
      ]
    },
    {
      "cell_type": "code",
      "source": [
        "# Comparison Operators\n",
        "a, b = 5, 10\n",
        "print(\"a equals b:\", a == b)\n",
        "print(\"a not equal to b:\", a != b)\n",
        "print(\"a greater than b:\", a > b)\n",
        "print(\"a less than or equal to b:\", a <= b)\n"
      ],
      "metadata": {
        "colab": {
          "base_uri": "https://localhost:8080/"
        },
        "id": "lW1CJnAOF9Mn",
        "outputId": "897204c5-8423-499d-86ba-4617af43ccf0"
      },
      "execution_count": 52,
      "outputs": [
        {
          "output_type": "stream",
          "name": "stdout",
          "text": [
            "a equals b: False\n",
            "a not equal to b: True\n",
            "a greater than b: False\n",
            "a less than or equal to b: True\n"
          ]
        }
      ]
    },
    {
      "cell_type": "code",
      "source": [
        "#Logical Operators\n",
        "is_active = True\n",
        "is_member = False\n",
        "print(\"Can access:\", is_active and is_member)\n",
        "print(\"Either active or member:\", is_active or is_member)\n",
        "print(\"Not active:\", not is_active)\n"
      ],
      "metadata": {
        "colab": {
          "base_uri": "https://localhost:8080/"
        },
        "id": "qYq_RR_HGE2d",
        "outputId": "76a5d932-6d91-4e55-bebb-b6b2c07b77dc"
      },
      "execution_count": 53,
      "outputs": [
        {
          "output_type": "stream",
          "name": "stdout",
          "text": [
            "Can access: False\n",
            "Either active or member: True\n",
            "Not active: False\n"
          ]
        }
      ]
    },
    {
      "cell_type": "code",
      "source": [
        "#Assignment Operators\n",
        "x = 5\n",
        "x += 2  # Equivalent to x = x + 2\n",
        "x *= 3  # Equivalent to x = x * 3\n",
        "print(\"Value of x:\", x)\n"
      ],
      "metadata": {
        "colab": {
          "base_uri": "https://localhost:8080/"
        },
        "id": "3pcpzMztGOu_",
        "outputId": "a53345e8-6b48-4f4a-de7d-9b80addc3efb"
      },
      "execution_count": 54,
      "outputs": [
        {
          "output_type": "stream",
          "name": "stdout",
          "text": [
            "Value of x: 21\n"
          ]
        }
      ]
    },
    {
      "cell_type": "code",
      "source": [
        "#Operator Precedence Example\n",
        "result = 5 + 3 * 2 ** 2  # Exponentiation first, then multiplication, then addition\n",
        "print(\"Result with precedence:\", result)\n"
      ],
      "metadata": {
        "colab": {
          "base_uri": "https://localhost:8080/"
        },
        "id": "OtggEwpHGVUx",
        "outputId": "e696b133-4eb5-48fe-e1d6-427a80b10d90"
      },
      "execution_count": 55,
      "outputs": [
        {
          "output_type": "stream",
          "name": "stdout",
          "text": [
            "Result with precedence: 17\n"
          ]
        }
      ]
    },
    {
      "cell_type": "markdown",
      "source": [
        "Reading CSV Files with Pandas"
      ],
      "metadata": {
        "id": "ZCKLhTJueozK"
      }
    },
    {
      "cell_type": "code",
      "source": [
        "df = pd.read_csv('/content/sample_data/california_housing_test.csv')\n",
        "print(df.head())"
      ],
      "metadata": {
        "colab": {
          "base_uri": "https://localhost:8080/"
        },
        "id": "TG0QK7x9eqEp",
        "outputId": "7a3fc246-55d4-4c83-870d-9556f58c7c35"
      },
      "execution_count": 3,
      "outputs": [
        {
          "output_type": "stream",
          "name": "stdout",
          "text": [
            "   longitude  latitude  housing_median_age  total_rooms  total_bedrooms  \\\n",
            "0    -122.05     37.37                27.0       3885.0           661.0   \n",
            "1    -118.30     34.26                43.0       1510.0           310.0   \n",
            "2    -117.81     33.78                27.0       3589.0           507.0   \n",
            "3    -118.36     33.82                28.0         67.0            15.0   \n",
            "4    -119.67     36.33                19.0       1241.0           244.0   \n",
            "\n",
            "   population  households  median_income  median_house_value  \n",
            "0      1537.0       606.0         6.6085            344700.0  \n",
            "1       809.0       277.0         3.5990            176500.0  \n",
            "2      1484.0       495.0         5.7934            270500.0  \n",
            "3        49.0        11.0         6.1359            330000.0  \n",
            "4       850.0       237.0         2.9375             81700.0  \n"
          ]
        }
      ]
    },
    {
      "cell_type": "code",
      "source": [
        "#Reading CSV with Custom Delimiter\n",
        "df = pd.read_csv('/content/sample_data/california_housing_test.csv', delimiter=';')\n",
        "print(df.head())"
      ],
      "metadata": {
        "colab": {
          "base_uri": "https://localhost:8080/"
        },
        "id": "xSe1BKTKe7C3",
        "outputId": "bd161fed-1698-494b-ae7b-d55c88bb0651"
      },
      "execution_count": 4,
      "outputs": [
        {
          "output_type": "stream",
          "name": "stdout",
          "text": [
            "  longitude,\"latitude\",\"housing_median_age\",\"total_rooms\",\"total_bedrooms\",\"population\",\"households\",\"median_income\",\"median_house_value\"\n",
            "0  -122.050000,37.370000,27.000000,3885.000000,66...                                                                                     \n",
            "1  -118.300000,34.260000,43.000000,1510.000000,31...                                                                                     \n",
            "2  -117.810000,33.780000,27.000000,3589.000000,50...                                                                                     \n",
            "3  -118.360000,33.820000,28.000000,67.000000,15.0...                                                                                     \n",
            "4  -119.670000,36.330000,19.000000,1241.000000,24...                                                                                     \n"
          ]
        }
      ]
    },
    {
      "cell_type": "code",
      "source": [
        "#Handling Missing Values\n",
        "df = pd.read_csv('/content/sample_data/california_housing_test.csv', na_values=['NA', 'N/A', ''])\n",
        "print(\"Data with missing values handled:\\n\", df.head())"
      ],
      "metadata": {
        "colab": {
          "base_uri": "https://localhost:8080/"
        },
        "id": "hU63oWrUfEjF",
        "outputId": "fc7ac01c-1e89-4140-d1c0-21a48075bda8"
      },
      "execution_count": 5,
      "outputs": [
        {
          "output_type": "stream",
          "name": "stdout",
          "text": [
            "Data with missing values handled:\n",
            "    longitude  latitude  housing_median_age  total_rooms  total_bedrooms  \\\n",
            "0    -122.05     37.37                27.0       3885.0           661.0   \n",
            "1    -118.30     34.26                43.0       1510.0           310.0   \n",
            "2    -117.81     33.78                27.0       3589.0           507.0   \n",
            "3    -118.36     33.82                28.0         67.0            15.0   \n",
            "4    -119.67     36.33                19.0       1241.0           244.0   \n",
            "\n",
            "   population  households  median_income  median_house_value  \n",
            "0      1537.0       606.0         6.6085            344700.0  \n",
            "1       809.0       277.0         3.5990            176500.0  \n",
            "2      1484.0       495.0         5.7934            270500.0  \n",
            "3        49.0        11.0         6.1359            330000.0  \n",
            "4       850.0       237.0         2.9375             81700.0  \n"
          ]
        }
      ]
    },
    {
      "cell_type": "code",
      "source": [],
      "metadata": {
        "id": "s1Oefm8BfOia"
      },
      "execution_count": null,
      "outputs": []
    },
    {
      "cell_type": "markdown",
      "source": [
        "Section 10: Python String Methods"
      ],
      "metadata": {
        "id": "dX4Uqj7xGh_T"
      }
    },
    {
      "cell_type": "code",
      "source": [
        "#Uppercase and Lowercase Conversion\n",
        "text = \"Hello, World!\"\n",
        "print(\"Uppercase:\", text.upper())\n",
        "print(\"Lowercase:\", text.lower())\n"
      ],
      "metadata": {
        "colab": {
          "base_uri": "https://localhost:8080/"
        },
        "id": "4ysMP9iGGbAb",
        "outputId": "119524fb-7ef0-4ced-d596-7e7a5ef8a999"
      },
      "execution_count": 56,
      "outputs": [
        {
          "output_type": "stream",
          "name": "stdout",
          "text": [
            "Uppercase: HELLO, WORLD!\n",
            "Lowercase: hello, world!\n"
          ]
        }
      ]
    },
    {
      "cell_type": "code",
      "source": [
        "#Replacing Parts of a String\n",
        "text = \"I love programming in Python!\"\n",
        "modified_text = text.replace(\"Python\", \"JavaScript\")\n",
        "print(\"Modified text:\", modified_text)\n"
      ],
      "metadata": {
        "colab": {
          "base_uri": "https://localhost:8080/"
        },
        "id": "ssted0INGqtP",
        "outputId": "80ab970a-6ebe-4774-aea1-558137375233"
      },
      "execution_count": 57,
      "outputs": [
        {
          "output_type": "stream",
          "name": "stdout",
          "text": [
            "Modified text: I love programming in JavaScript!\n"
          ]
        }
      ]
    },
    {
      "cell_type": "code",
      "source": [
        "#Checking if String Starts/Ends with a Substring\n",
        "text = \"data_science_project.csv\"\n",
        "print(\"Starts with 'data':\", text.startswith(\"data\"))\n",
        "print(\"Ends with '.csv':\", text.endswith(\".csv\"))\n"
      ],
      "metadata": {
        "colab": {
          "base_uri": "https://localhost:8080/"
        },
        "id": "tQ5VytY3Gz38",
        "outputId": "1229a11b-d8bc-4270-aa7b-d8f67839d145"
      },
      "execution_count": 58,
      "outputs": [
        {
          "output_type": "stream",
          "name": "stdout",
          "text": [
            "Starts with 'data': True\n",
            "Ends with '.csv': True\n"
          ]
        }
      ]
    },
    {
      "cell_type": "code",
      "source": [
        "#Splitting and Joining Strings\n",
        "sentence = \"Python is a versatile language\"\n",
        "words = sentence.split()  # Split by whitespace\n",
        "joined_sentence = \"-\".join(words)\n",
        "print(\"Words:\", words)\n",
        "print(\"Joined sentence:\", joined_sentence)\n"
      ],
      "metadata": {
        "colab": {
          "base_uri": "https://localhost:8080/"
        },
        "id": "Z5skAfCyG9sp",
        "outputId": "b4ad736e-868a-4731-f4f9-3bba3898110c"
      },
      "execution_count": 59,
      "outputs": [
        {
          "output_type": "stream",
          "name": "stdout",
          "text": [
            "Words: ['Python', 'is', 'a', 'versatile', 'language']\n",
            "Joined sentence: Python-is-a-versatile-language\n"
          ]
        }
      ]
    },
    {
      "cell_type": "code",
      "source": [
        "#Removing Whitespace\n",
        "messy_string = \"   Hello, World!   \"\n",
        "print(\"Original string:\", repr(messy_string))\n",
        "print(\"Without leading and trailing whitespace:\", repr(messy_string.strip()))\n"
      ],
      "metadata": {
        "colab": {
          "base_uri": "https://localhost:8080/"
        },
        "id": "-BYpYYJ8HIfA",
        "outputId": "b0207c88-5ade-4b14-9a54-8e20f1561f94"
      },
      "execution_count": 60,
      "outputs": [
        {
          "output_type": "stream",
          "name": "stdout",
          "text": [
            "Original string: '   Hello, World!   '\n",
            "Without leading and trailing whitespace: 'Hello, World!'\n"
          ]
        }
      ]
    }
  ]
}